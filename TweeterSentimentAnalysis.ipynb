{
  "nbformat": 4,
  "nbformat_minor": 0,
  "metadata": {
    "colab": {
      "name": "TweetSentimentFinal.ipynb",
      "provenance": [],
      "collapsed_sections": []
    },
    "kernelspec": {
      "name": "python3",
      "display_name": "Python 3"
    }
  },
  "cells": [
    {
      "cell_type": "markdown",
      "metadata": {
        "id": "1VhIwOHBC1HI"
      },
      "source": [
        "# **Import Libraries**\n"
      ]
    },
    {
      "cell_type": "code",
      "metadata": {
        "colab": {
          "base_uri": "https://localhost:8080/"
        },
        "id": "nVpOi6fcPK16",
        "outputId": "307e480e-07e8-4b16-ac0c-21cea9b30c72"
      },
      "source": [
        "import pandas as pd\n",
        "#open source data analysis and manipulation tool\n",
        "import nltk\n",
        "# Natural Language Toolkit\n",
        "import seaborn as sns \n",
        "#Library for diagrams\n",
        "import numpy as np\n",
        "#library for arrays\n",
        "from textblob import TextBlob\n",
        "#Library for processing textual data\n",
        "import re as regex\n",
        "import re\n",
        "nltk.download('punkt')  \n",
        "# Natural Language Toolkit\n",
        "from collections import Counter\n",
        "# sklearn library for train-test,accuracy-recall-precision score and time\n",
        "from sklearn.model_selection import train_test_split, cross_val_score, GridSearchCV, RandomizedSearchCV\n",
        "# time library for calculate time\n",
        "from time import time\n",
        "#precision, recall and and accuracy score from sklearn.metrics libraty  \n",
        "from sklearn.metrics import f1_score, precision_score, recall_score, accuracy_score\n",
        "\n"
      ],
      "execution_count": 147,
      "outputs": [
        {
          "output_type": "stream",
          "name": "stdout",
          "text": [
            "[nltk_data] Downloading package punkt to /root/nltk_data...\n",
            "[nltk_data]   Package punkt is already up-to-date!\n"
          ]
        }
      ]
    },
    {
      "cell_type": "markdown",
      "metadata": {
        "id": "LxmYs2VQDJdc"
      },
      "source": [
        "# **Input Files (Data)**"
      ]
    },
    {
      "cell_type": "code",
      "metadata": {
        "id": "an1k3YsWPWDO"
      },
      "source": [
        "#Read .csv files into train and test data with the right encoding!\n",
        "train_data = pd.read_csv('/content/TwitterTrain.csv', encoding= 'unicode_escape')\n",
        "test_data = pd.read_csv('/content/TwitterTest.csv', encoding= 'unicode_escape')\n",
        "\n",
        "\n",
        "\n",
        "\n",
        "\n",
        "train_data = train_data[train_data['target'] != 'text']"
      ],
      "execution_count": 148,
      "outputs": []
    },
    {
      "cell_type": "code",
      "metadata": {
        "id": "S2Kira26Vy4Z",
        "colab": {
          "base_uri": "https://localhost:8080/",
          "height": 206
        },
        "outputId": "c4e654d0-e9fa-4874-aae6-2e550b23d0ad"
      },
      "source": [
        "# Analyze the 1st 5 posts of train_data file\n",
        "train_data.head() "
      ],
      "execution_count": 149,
      "outputs": [
        {
          "output_type": "execute_result",
          "data": {
            "text/html": [
              "\n",
              "  <div id=\"df-5f38494e-30e2-41a2-87af-5ad4b53863f2\">\n",
              "    <div class=\"colab-df-container\">\n",
              "      <div>\n",
              "<style scoped>\n",
              "    .dataframe tbody tr th:only-of-type {\n",
              "        vertical-align: middle;\n",
              "    }\n",
              "\n",
              "    .dataframe tbody tr th {\n",
              "        vertical-align: top;\n",
              "    }\n",
              "\n",
              "    .dataframe thead th {\n",
              "        text-align: right;\n",
              "    }\n",
              "</style>\n",
              "<table border=\"1\" class=\"dataframe\">\n",
              "  <thead>\n",
              "    <tr style=\"text-align: right;\">\n",
              "      <th></th>\n",
              "      <th>ids</th>\n",
              "      <th>text</th>\n",
              "      <th>target</th>\n",
              "    </tr>\n",
              "  </thead>\n",
              "  <tbody>\n",
              "    <tr>\n",
              "      <th>0</th>\n",
              "      <td>2329170131</td>\n",
              "      <td>why am tipsy at 1:30 in the afternoon. Thanks ...</td>\n",
              "      <td>0</td>\n",
              "    </tr>\n",
              "    <tr>\n",
              "      <th>1</th>\n",
              "      <td>2329170276</td>\n",
              "      <td>why am tipsy at 1:30 in the afternoon. Thanks ...</td>\n",
              "      <td>0</td>\n",
              "    </tr>\n",
              "    <tr>\n",
              "      <th>2</th>\n",
              "      <td>2329170385</td>\n",
              "      <td>has a feeling the rest of the day is going to ...</td>\n",
              "      <td>0</td>\n",
              "    </tr>\n",
              "    <tr>\n",
              "      <th>3</th>\n",
              "      <td>2329170393</td>\n",
              "      <td>@JapanNewbie woohoo I'm all for slack time.. I...</td>\n",
              "      <td>0</td>\n",
              "    </tr>\n",
              "    <tr>\n",
              "      <th>4</th>\n",
              "      <td>2329170631</td>\n",
              "      <td>Scratch that.. No pool today</td>\n",
              "      <td>0</td>\n",
              "    </tr>\n",
              "  </tbody>\n",
              "</table>\n",
              "</div>\n",
              "      <button class=\"colab-df-convert\" onclick=\"convertToInteractive('df-5f38494e-30e2-41a2-87af-5ad4b53863f2')\"\n",
              "              title=\"Convert this dataframe to an interactive table.\"\n",
              "              style=\"display:none;\">\n",
              "        \n",
              "  <svg xmlns=\"http://www.w3.org/2000/svg\" height=\"24px\"viewBox=\"0 0 24 24\"\n",
              "       width=\"24px\">\n",
              "    <path d=\"M0 0h24v24H0V0z\" fill=\"none\"/>\n",
              "    <path d=\"M18.56 5.44l.94 2.06.94-2.06 2.06-.94-2.06-.94-.94-2.06-.94 2.06-2.06.94zm-11 1L8.5 8.5l.94-2.06 2.06-.94-2.06-.94L8.5 2.5l-.94 2.06-2.06.94zm10 10l.94 2.06.94-2.06 2.06-.94-2.06-.94-.94-2.06-.94 2.06-2.06.94z\"/><path d=\"M17.41 7.96l-1.37-1.37c-.4-.4-.92-.59-1.43-.59-.52 0-1.04.2-1.43.59L10.3 9.45l-7.72 7.72c-.78.78-.78 2.05 0 2.83L4 21.41c.39.39.9.59 1.41.59.51 0 1.02-.2 1.41-.59l7.78-7.78 2.81-2.81c.8-.78.8-2.07 0-2.86zM5.41 20L4 18.59l7.72-7.72 1.47 1.35L5.41 20z\"/>\n",
              "  </svg>\n",
              "      </button>\n",
              "      \n",
              "  <style>\n",
              "    .colab-df-container {\n",
              "      display:flex;\n",
              "      flex-wrap:wrap;\n",
              "      gap: 12px;\n",
              "    }\n",
              "\n",
              "    .colab-df-convert {\n",
              "      background-color: #E8F0FE;\n",
              "      border: none;\n",
              "      border-radius: 50%;\n",
              "      cursor: pointer;\n",
              "      display: none;\n",
              "      fill: #1967D2;\n",
              "      height: 32px;\n",
              "      padding: 0 0 0 0;\n",
              "      width: 32px;\n",
              "    }\n",
              "\n",
              "    .colab-df-convert:hover {\n",
              "      background-color: #E2EBFA;\n",
              "      box-shadow: 0px 1px 2px rgba(60, 64, 67, 0.3), 0px 1px 3px 1px rgba(60, 64, 67, 0.15);\n",
              "      fill: #174EA6;\n",
              "    }\n",
              "\n",
              "    [theme=dark] .colab-df-convert {\n",
              "      background-color: #3B4455;\n",
              "      fill: #D2E3FC;\n",
              "    }\n",
              "\n",
              "    [theme=dark] .colab-df-convert:hover {\n",
              "      background-color: #434B5C;\n",
              "      box-shadow: 0px 1px 3px 1px rgba(0, 0, 0, 0.15);\n",
              "      filter: drop-shadow(0px 1px 2px rgba(0, 0, 0, 0.3));\n",
              "      fill: #FFFFFF;\n",
              "    }\n",
              "  </style>\n",
              "\n",
              "      <script>\n",
              "        const buttonEl =\n",
              "          document.querySelector('#df-5f38494e-30e2-41a2-87af-5ad4b53863f2 button.colab-df-convert');\n",
              "        buttonEl.style.display =\n",
              "          google.colab.kernel.accessAllowed ? 'block' : 'none';\n",
              "\n",
              "        async function convertToInteractive(key) {\n",
              "          const element = document.querySelector('#df-5f38494e-30e2-41a2-87af-5ad4b53863f2');\n",
              "          const dataTable =\n",
              "            await google.colab.kernel.invokeFunction('convertToInteractive',\n",
              "                                                     [key], {});\n",
              "          if (!dataTable) return;\n",
              "\n",
              "          const docLinkHtml = 'Like what you see? Visit the ' +\n",
              "            '<a target=\"_blank\" href=https://colab.research.google.com/notebooks/data_table.ipynb>data table notebook</a>'\n",
              "            + ' to learn more about interactive tables.';\n",
              "          element.innerHTML = '';\n",
              "          dataTable['output_type'] = 'display_data';\n",
              "          await google.colab.output.renderOutput(dataTable, element);\n",
              "          const docLink = document.createElement('div');\n",
              "          docLink.innerHTML = docLinkHtml;\n",
              "          element.appendChild(docLink);\n",
              "        }\n",
              "      </script>\n",
              "    </div>\n",
              "  </div>\n",
              "  "
            ],
            "text/plain": [
              "          ids                                               text  target\n",
              "0  2329170131  why am tipsy at 1:30 in the afternoon. Thanks ...       0\n",
              "1  2329170276  why am tipsy at 1:30 in the afternoon. Thanks ...       0\n",
              "2  2329170385  has a feeling the rest of the day is going to ...       0\n",
              "3  2329170393  @JapanNewbie woohoo I'm all for slack time.. I...       0\n",
              "4  2329170631                      Scratch that.. No pool today        0"
            ]
          },
          "metadata": {},
          "execution_count": 149
        }
      ]
    },
    {
      "cell_type": "code",
      "metadata": {
        "id": "N6mLjjPQVzJW",
        "colab": {
          "base_uri": "https://localhost:8080/"
        },
        "outputId": "258a9fa0-ef50-4857-b2fe-d82dc940a35b"
      },
      "source": [
        "# Info for the train_data file\n",
        "train_data.info() "
      ],
      "execution_count": 150,
      "outputs": [
        {
          "output_type": "stream",
          "name": "stdout",
          "text": [
            "<class 'pandas.core.frame.DataFrame'>\n",
            "Int64Index: 2017 entries, 0 to 2016\n",
            "Data columns (total 3 columns):\n",
            " #   Column  Non-Null Count  Dtype \n",
            "---  ------  --------------  ----- \n",
            " 0   ids     2017 non-null   int64 \n",
            " 1   text    2017 non-null   object\n",
            " 2   target  2017 non-null   int64 \n",
            "dtypes: int64(2), object(1)\n",
            "memory usage: 63.0+ KB\n"
          ]
        }
      ]
    },
    {
      "cell_type": "code",
      "metadata": {
        "id": "Uu01BC2rZKRA",
        "colab": {
          "base_uri": "https://localhost:8080/",
          "height": 206
        },
        "outputId": "8896d604-4986-405e-8d36-c798d6190998"
      },
      "source": [
        "# Analyze the 1st 5 posts of test_data file\n",
        "test_data.head()"
      ],
      "execution_count": 151,
      "outputs": [
        {
          "output_type": "execute_result",
          "data": {
            "text/html": [
              "\n",
              "  <div id=\"df-2ee80762-5089-4a79-ab3c-b010f545ff7f\">\n",
              "    <div class=\"colab-df-container\">\n",
              "      <div>\n",
              "<style scoped>\n",
              "    .dataframe tbody tr th:only-of-type {\n",
              "        vertical-align: middle;\n",
              "    }\n",
              "\n",
              "    .dataframe tbody tr th {\n",
              "        vertical-align: top;\n",
              "    }\n",
              "\n",
              "    .dataframe thead th {\n",
              "        text-align: right;\n",
              "    }\n",
              "</style>\n",
              "<table border=\"1\" class=\"dataframe\">\n",
              "  <thead>\n",
              "    <tr style=\"text-align: right;\">\n",
              "      <th></th>\n",
              "      <th>ids</th>\n",
              "      <th>text</th>\n",
              "      <th>target</th>\n",
              "    </tr>\n",
              "  </thead>\n",
              "  <tbody>\n",
              "    <tr>\n",
              "      <th>0</th>\n",
              "      <td>1467810369</td>\n",
              "      <td>@switchfoot http://twitpic.com/2y1zl - Awww, t...</td>\n",
              "      <td>0</td>\n",
              "    </tr>\n",
              "    <tr>\n",
              "      <th>1</th>\n",
              "      <td>1467810672</td>\n",
              "      <td>is upset that he can't update his Facebook by ...</td>\n",
              "      <td>0</td>\n",
              "    </tr>\n",
              "    <tr>\n",
              "      <th>2</th>\n",
              "      <td>1467810917</td>\n",
              "      <td>@Kenichan I dived many times for the ball. Man...</td>\n",
              "      <td>0</td>\n",
              "    </tr>\n",
              "    <tr>\n",
              "      <th>3</th>\n",
              "      <td>1467811184</td>\n",
              "      <td>my whole body feels itchy and like its on fire</td>\n",
              "      <td>0</td>\n",
              "    </tr>\n",
              "    <tr>\n",
              "      <th>4</th>\n",
              "      <td>1467811193</td>\n",
              "      <td>@nationwideclass no, it's not behaving at all....</td>\n",
              "      <td>0</td>\n",
              "    </tr>\n",
              "  </tbody>\n",
              "</table>\n",
              "</div>\n",
              "      <button class=\"colab-df-convert\" onclick=\"convertToInteractive('df-2ee80762-5089-4a79-ab3c-b010f545ff7f')\"\n",
              "              title=\"Convert this dataframe to an interactive table.\"\n",
              "              style=\"display:none;\">\n",
              "        \n",
              "  <svg xmlns=\"http://www.w3.org/2000/svg\" height=\"24px\"viewBox=\"0 0 24 24\"\n",
              "       width=\"24px\">\n",
              "    <path d=\"M0 0h24v24H0V0z\" fill=\"none\"/>\n",
              "    <path d=\"M18.56 5.44l.94 2.06.94-2.06 2.06-.94-2.06-.94-.94-2.06-.94 2.06-2.06.94zm-11 1L8.5 8.5l.94-2.06 2.06-.94-2.06-.94L8.5 2.5l-.94 2.06-2.06.94zm10 10l.94 2.06.94-2.06 2.06-.94-2.06-.94-.94-2.06-.94 2.06-2.06.94z\"/><path d=\"M17.41 7.96l-1.37-1.37c-.4-.4-.92-.59-1.43-.59-.52 0-1.04.2-1.43.59L10.3 9.45l-7.72 7.72c-.78.78-.78 2.05 0 2.83L4 21.41c.39.39.9.59 1.41.59.51 0 1.02-.2 1.41-.59l7.78-7.78 2.81-2.81c.8-.78.8-2.07 0-2.86zM5.41 20L4 18.59l7.72-7.72 1.47 1.35L5.41 20z\"/>\n",
              "  </svg>\n",
              "      </button>\n",
              "      \n",
              "  <style>\n",
              "    .colab-df-container {\n",
              "      display:flex;\n",
              "      flex-wrap:wrap;\n",
              "      gap: 12px;\n",
              "    }\n",
              "\n",
              "    .colab-df-convert {\n",
              "      background-color: #E8F0FE;\n",
              "      border: none;\n",
              "      border-radius: 50%;\n",
              "      cursor: pointer;\n",
              "      display: none;\n",
              "      fill: #1967D2;\n",
              "      height: 32px;\n",
              "      padding: 0 0 0 0;\n",
              "      width: 32px;\n",
              "    }\n",
              "\n",
              "    .colab-df-convert:hover {\n",
              "      background-color: #E2EBFA;\n",
              "      box-shadow: 0px 1px 2px rgba(60, 64, 67, 0.3), 0px 1px 3px 1px rgba(60, 64, 67, 0.15);\n",
              "      fill: #174EA6;\n",
              "    }\n",
              "\n",
              "    [theme=dark] .colab-df-convert {\n",
              "      background-color: #3B4455;\n",
              "      fill: #D2E3FC;\n",
              "    }\n",
              "\n",
              "    [theme=dark] .colab-df-convert:hover {\n",
              "      background-color: #434B5C;\n",
              "      box-shadow: 0px 1px 3px 1px rgba(0, 0, 0, 0.15);\n",
              "      filter: drop-shadow(0px 1px 2px rgba(0, 0, 0, 0.3));\n",
              "      fill: #FFFFFF;\n",
              "    }\n",
              "  </style>\n",
              "\n",
              "      <script>\n",
              "        const buttonEl =\n",
              "          document.querySelector('#df-2ee80762-5089-4a79-ab3c-b010f545ff7f button.colab-df-convert');\n",
              "        buttonEl.style.display =\n",
              "          google.colab.kernel.accessAllowed ? 'block' : 'none';\n",
              "\n",
              "        async function convertToInteractive(key) {\n",
              "          const element = document.querySelector('#df-2ee80762-5089-4a79-ab3c-b010f545ff7f');\n",
              "          const dataTable =\n",
              "            await google.colab.kernel.invokeFunction('convertToInteractive',\n",
              "                                                     [key], {});\n",
              "          if (!dataTable) return;\n",
              "\n",
              "          const docLinkHtml = 'Like what you see? Visit the ' +\n",
              "            '<a target=\"_blank\" href=https://colab.research.google.com/notebooks/data_table.ipynb>data table notebook</a>'\n",
              "            + ' to learn more about interactive tables.';\n",
              "          element.innerHTML = '';\n",
              "          dataTable['output_type'] = 'display_data';\n",
              "          await google.colab.output.renderOutput(dataTable, element);\n",
              "          const docLink = document.createElement('div');\n",
              "          docLink.innerHTML = docLinkHtml;\n",
              "          element.appendChild(docLink);\n",
              "        }\n",
              "      </script>\n",
              "    </div>\n",
              "  </div>\n",
              "  "
            ],
            "text/plain": [
              "          ids                                               text  target\n",
              "0  1467810369  @switchfoot http://twitpic.com/2y1zl - Awww, t...       0\n",
              "1  1467810672  is upset that he can't update his Facebook by ...       0\n",
              "2  1467810917  @Kenichan I dived many times for the ball. Man...       0\n",
              "3  1467811184    my whole body feels itchy and like its on fire        0\n",
              "4  1467811193  @nationwideclass no, it's not behaving at all....       0"
            ]
          },
          "metadata": {},
          "execution_count": 151
        }
      ]
    },
    {
      "cell_type": "code",
      "metadata": {
        "id": "HzsXr0BKZVG0",
        "colab": {
          "base_uri": "https://localhost:8080/"
        },
        "outputId": "918a189a-7685-4030-d393-070b0e1eb2ca"
      },
      "source": [
        "# Info for the test_data file\n",
        "test_data.info()"
      ],
      "execution_count": 152,
      "outputs": [
        {
          "output_type": "stream",
          "name": "stdout",
          "text": [
            "<class 'pandas.core.frame.DataFrame'>\n",
            "RangeIndex: 204 entries, 0 to 203\n",
            "Data columns (total 3 columns):\n",
            " #   Column  Non-Null Count  Dtype \n",
            "---  ------  --------------  ----- \n",
            " 0   ids     204 non-null    int64 \n",
            " 1   text    204 non-null    object\n",
            " 2   target  204 non-null    int64 \n",
            "dtypes: int64(2), object(1)\n",
            "memory usage: 4.9+ KB\n"
          ]
        }
      ]
    },
    {
      "cell_type": "markdown",
      "metadata": {
        "id": "9Nuru6S0D3Vj"
      },
      "source": [
        "# **Data Visualization**"
      ]
    },
    {
      "cell_type": "code",
      "metadata": {
        "id": "3k4MwpExZfna",
        "colab": {
          "base_uri": "https://localhost:8080/",
          "height": 299
        },
        "outputId": "20e2e9a8-62d8-4e2e-96b6-b7bde79e4a4d"
      },
      "source": [
        "# Diagram of the train_data file with number of posts and negantive files\n",
        "sns.countplot(x='target',data=train_data)"
      ],
      "execution_count": 153,
      "outputs": [
        {
          "output_type": "execute_result",
          "data": {
            "text/plain": [
              "<matplotlib.axes._subplots.AxesSubplot at 0x7f5bc177a8d0>"
            ]
          },
          "metadata": {},
          "execution_count": 153
        },
        {
          "output_type": "display_data",
          "data": {
            "image/png": "[encoded data removed]",
            "text/plain": [
              "<Figure size 432x288 with 1 Axes>"
            ]
          },
          "metadata": {
            "needs_background": "light"
          }
        }
      ]
    },
    {
      "cell_type": "code",
      "metadata": {
        "id": "2J-hwdSh5RDz",
        "colab": {
          "base_uri": "https://localhost:8080/",
          "height": 296
        },
        "outputId": "5a1a533d-5aac-4aa3-ebaf-c5270124c9b0"
      },
      "source": [
        "sns.countplot(x='target',data=test_data)"
      ],
      "execution_count": 154,
      "outputs": [
        {
          "output_type": "execute_result",
          "data": {
            "text/plain": [
              "<matplotlib.axes._subplots.AxesSubplot at 0x7f5bb1f73890>"
            ]
          },
          "metadata": {},
          "execution_count": 154
        },
        {
          "output_type": "display_data",
          "data": {
            "image/png": "[encoded data removed]",
            "text/plain": [
              "<Figure size 432x288 with 1 Axes>"
            ]
          },
          "metadata": {
            "needs_background": "light"
          }
        }
      ]
    },
    {
      "cell_type": "markdown",
      "metadata": {
        "id": "KNZWh2xeEIE_"
      },
      "source": [
        "# **Remove Empty Tweets**"
      ]
    },
    {
      "cell_type": "code",
      "metadata": {
        "id": "1R3T4hUNTgrP"
      },
      "source": [
        "# remove tweets with empty sentiment column\n",
        "\n",
        "train_data = train_data[train_data['target'] != \"\"]\n",
        "\n"
      ],
      "execution_count": 155,
      "outputs": []
    },
    {
      "cell_type": "code",
      "metadata": {
        "colab": {
          "base_uri": "https://localhost:8080/"
        },
        "id": "FJhWRkWwUFNx",
        "outputId": "fe742263-db61-4ab2-e6cb-0493cf4f0910"
      },
      "source": [
        "train_data.info()"
      ],
      "execution_count": 157,
      "outputs": [
        {
          "output_type": "stream",
          "name": "stdout",
          "text": [
            "<class 'pandas.core.frame.DataFrame'>\n",
            "Int64Index: 2017 entries, 0 to 2016\n",
            "Data columns (total 3 columns):\n",
            " #   Column  Non-Null Count  Dtype \n",
            "---  ------  --------------  ----- \n",
            " 0   ids     2017 non-null   int64 \n",
            " 1   text    2017 non-null   object\n",
            " 2   target  2017 non-null   int64 \n",
            "dtypes: int64(2), object(1)\n",
            "memory usage: 63.0+ KB\n"
          ]
        }
      ]
    },
    {
      "cell_type": "markdown",
      "metadata": {
        "id": "ay3gDDBmESJP"
      },
      "source": [
        "# **Tweet Cleaning**"
      ]
    },
    {
      "cell_type": "code",
      "metadata": {
        "id": "I6W32e01Zuq6"
      },
      "source": [
        "\n",
        "\n",
        " #Function to clean tweets\n",
        " #Remove URLs\n",
        " #Remove usernames (mentions)\n",
        " #Remove special characters EXCEPT FROM :,)\n",
        " #Remove Numbers \n",
        "\n",
        "\n",
        "\n",
        "def clean_tweets(tweet):\n",
        "    \n",
        "    # remove URL\n",
        "    tweet = re.sub(r\"http\\S+\", \"\", tweet)\n",
        "    \n",
        "    # Remove usernames\n",
        "    tweet = re.sub(r\"@[^\\s]+[\\s]?\",'',tweet)\n",
        "\n",
        "     # remove special characters \n",
        "    tweet = re.sub('[^ a-zA-Z0-9]' , '', tweet)\n",
        "    \n",
        "    # remove Numbers\n",
        "    tweet = re.sub('[0-9]', '', tweet)\n",
        "    \n",
        "    \n",
        "    \n",
        "    \n",
        "    \n",
        "    return tweet\n",
        "\n"
      ],
      "execution_count": 121,
      "outputs": []
    },
    {
      "cell_type": "code",
      "metadata": {
        "id": "Fe1zeVo0a9fQ"
      },
      "source": [
        "# Apply function to Text column with clean text\n",
        "train_data['text'] = train_data['text'].apply(clean_tweets)\n"
      ],
      "execution_count": 158,
      "outputs": []
    },
    {
      "cell_type": "code",
      "metadata": {
        "id": "V42QcdAhzaI4",
        "colab": {
          "base_uri": "https://localhost:8080/"
        },
        "outputId": "49f62ccc-4b84-4bf1-c5f5-fd566517360d"
      },
      "source": [
        "#Analyze the 1st 5 posts of train_data file after cleaning with Name of column and datatype!\n",
        "train_data['text'].head()"
      ],
      "execution_count": 159,
      "outputs": [
        {
          "output_type": "execute_result",
          "data": {
            "text/plain": [
              "0    why am tipsy at  in the afternoon Thanks There...\n",
              "1    why am tipsy at  in the afternoon Thanks There...\n",
              "2    has a feeling the rest of the day is going to ...\n",
              "3    woohoo Im all for slack time Im goin crazy at ...\n",
              "4                          Scratch that No pool today \n",
              "Name: text, dtype: object"
            ]
          },
          "metadata": {},
          "execution_count": 159
        }
      ]
    },
    {
      "cell_type": "markdown",
      "metadata": {
        "id": "YUU_UEfjDfQD"
      },
      "source": [
        "# **Tokenize & Stremming**"
      ]
    },
    {
      "cell_type": "code",
      "metadata": {
        "colab": {
          "base_uri": "https://localhost:8080/"
        },
        "id": "9yufH4g6UsPL",
        "outputId": "464e9d77-16ed-4505-c595-e5f0b8aee342"
      },
      "source": [
        "# Function which directly tokenize the text data\n",
        "from nltk.tokenize import TweetTokenizer\n",
        "\n",
        "tt = TweetTokenizer()\n",
        "train_data['text'].apply(tt.tokenize)"
      ],
      "execution_count": 160,
      "outputs": [
        {
          "output_type": "execute_result",
          "data": {
            "text/plain": [
              "0       [why, am, tipsy, at, in, the, afternoon, Thank...\n",
              "1       [why, am, tipsy, at, in, the, afternoon, Thank...\n",
              "2       [has, a, feeling, the, rest, of, the, day, is,...\n",
              "3       [woohoo, Im, all, for, slack, time, Im, goin, ...\n",
              "4                        [Scratch, that, No, pool, today]\n",
              "                              ...                        \n",
              "2012    [Pretty, good, coaching, with, exceptional, ta...\n",
              "2013                                  [I, hate, Tuesdays]\n",
              "2014        [its, her, quothairquot, I, cant, deal, with]\n",
              "2015    [Feel, like, Im, stuck, in, a, rut, Waiting, t...\n",
              "2016       [i, need, new, glassesmines, is, hangnon, arm]\n",
              "Name: text, Length: 2017, dtype: object"
            ]
          },
          "metadata": {},
          "execution_count": 160
        }
      ]
    },
    {
      "cell_type": "code",
      "metadata": {
        "id": "LOuK7HZUUyVj"
      },
      "source": [
        "from nltk.stem import PorterStemmer   #Libraries for tokenize words and stremming\n",
        "from nltk.tokenize import sent_tokenize, word_tokenize\n",
        "\n",
        "ps = PorterStemmer()"
      ],
      "execution_count": 161,
      "outputs": []
    },
    {
      "cell_type": "code",
      "metadata": {
        "id": "WuZ-KGzgUz6-"
      },
      "source": [
        "def tokenize(text):                    # funtion for tokenize words and stremming\n",
        "    return word_tokenize(text)\n",
        "\n",
        "def stemming(words):\n",
        "    stem_words = []\n",
        "    for w in words:\n",
        "        w = ps.stem(w)\n",
        "        stem_words.append(w)\n",
        "    \n",
        "    return stem_words"
      ],
      "execution_count": 162,
      "outputs": []
    },
    {
      "cell_type": "code",
      "metadata": {
        "id": "xayXJboYU0Ej"
      },
      "source": [
        "# apply tokenize function\n",
        "train_data['tokenized'] = train_data['text'].apply(tokenize)"
      ],
      "execution_count": 163,
      "outputs": []
    },
    {
      "cell_type": "code",
      "metadata": {
        "id": "QHM3tt98U_xt"
      },
      "source": [
        "# apply stemming function\n",
        "train_data['stremming'] = train_data['tokenized'].apply(stemming)"
      ],
      "execution_count": 164,
      "outputs": []
    },
    {
      "cell_type": "code",
      "metadata": {
        "colab": {
          "base_uri": "https://localhost:8080/",
          "height": 206
        },
        "id": "TtYZ_SwnVABN",
        "outputId": "c24c5807-489b-44cd-b66f-0b072aa47e93"
      },
      "source": [
        "train_data.head()  #See the 1st 5 tokenize reults"
      ],
      "execution_count": 165,
      "outputs": [
        {
          "output_type": "execute_result",
          "data": {
            "text/html": [
              "\n",
              "  <div id=\"df-b8c93bc5-d8f6-4b5e-8c30-2d165bd98ab9\">\n",
              "    <div class=\"colab-df-container\">\n",
              "      <div>\n",
              "<style scoped>\n",
              "    .dataframe tbody tr th:only-of-type {\n",
              "        vertical-align: middle;\n",
              "    }\n",
              "\n",
              "    .dataframe tbody tr th {\n",
              "        vertical-align: top;\n",
              "    }\n",
              "\n",
              "    .dataframe thead th {\n",
              "        text-align: right;\n",
              "    }\n",
              "</style>\n",
              "<table border=\"1\" class=\"dataframe\">\n",
              "  <thead>\n",
              "    <tr style=\"text-align: right;\">\n",
              "      <th></th>\n",
              "      <th>ids</th>\n",
              "      <th>text</th>\n",
              "      <th>target</th>\n",
              "      <th>tokenized</th>\n",
              "      <th>stremming</th>\n",
              "    </tr>\n",
              "  </thead>\n",
              "  <tbody>\n",
              "    <tr>\n",
              "      <th>0</th>\n",
              "      <td>2329170131</td>\n",
              "      <td>why am tipsy at  in the afternoon Thanks There...</td>\n",
              "      <td>0</td>\n",
              "      <td>[why, am, tipsy, at, in, the, afternoon, Thank...</td>\n",
              "      <td>[whi, am, tipsi, at, in, the, afternoon, thank...</td>\n",
              "    </tr>\n",
              "    <tr>\n",
              "      <th>1</th>\n",
              "      <td>2329170276</td>\n",
              "      <td>why am tipsy at  in the afternoon Thanks There...</td>\n",
              "      <td>0</td>\n",
              "      <td>[why, am, tipsy, at, in, the, afternoon, Thank...</td>\n",
              "      <td>[whi, am, tipsi, at, in, the, afternoon, thank...</td>\n",
              "    </tr>\n",
              "    <tr>\n",
              "      <th>2</th>\n",
              "      <td>2329170385</td>\n",
              "      <td>has a feeling the rest of the day is going to ...</td>\n",
              "      <td>0</td>\n",
              "      <td>[has, a, feeling, the, rest, of, the, day, is,...</td>\n",
              "      <td>[ha, a, feel, the, rest, of, the, day, is, go,...</td>\n",
              "    </tr>\n",
              "    <tr>\n",
              "      <th>3</th>\n",
              "      <td>2329170393</td>\n",
              "      <td>woohoo Im all for slack time Im goin crazy at ...</td>\n",
              "      <td>0</td>\n",
              "      <td>[woohoo, Im, all, for, slack, time, Im, goin, ...</td>\n",
              "      <td>[woohoo, Im, all, for, slack, time, Im, goin, ...</td>\n",
              "    </tr>\n",
              "    <tr>\n",
              "      <th>4</th>\n",
              "      <td>2329170631</td>\n",
              "      <td>Scratch that No pool today</td>\n",
              "      <td>0</td>\n",
              "      <td>[Scratch, that, No, pool, today]</td>\n",
              "      <td>[scratch, that, No, pool, today]</td>\n",
              "    </tr>\n",
              "  </tbody>\n",
              "</table>\n",
              "</div>\n",
              "      <button class=\"colab-df-convert\" onclick=\"convertToInteractive('df-b8c93bc5-d8f6-4b5e-8c30-2d165bd98ab9')\"\n",
              "              title=\"Convert this dataframe to an interactive table.\"\n",
              "              style=\"display:none;\">\n",
              "        \n",
              "  <svg xmlns=\"http://www.w3.org/2000/svg\" height=\"24px\"viewBox=\"0 0 24 24\"\n",
              "       width=\"24px\">\n",
              "    <path d=\"M0 0h24v24H0V0z\" fill=\"none\"/>\n",
              "    <path d=\"M18.56 5.44l.94 2.06.94-2.06 2.06-.94-2.06-.94-.94-2.06-.94 2.06-2.06.94zm-11 1L8.5 8.5l.94-2.06 2.06-.94-2.06-.94L8.5 2.5l-.94 2.06-2.06.94zm10 10l.94 2.06.94-2.06 2.06-.94-2.06-.94-.94-2.06-.94 2.06-2.06.94z\"/><path d=\"M17.41 7.96l-1.37-1.37c-.4-.4-.92-.59-1.43-.59-.52 0-1.04.2-1.43.59L10.3 9.45l-7.72 7.72c-.78.78-.78 2.05 0 2.83L4 21.41c.39.39.9.59 1.41.59.51 0 1.02-.2 1.41-.59l7.78-7.78 2.81-2.81c.8-.78.8-2.07 0-2.86zM5.41 20L4 18.59l7.72-7.72 1.47 1.35L5.41 20z\"/>\n",
              "  </svg>\n",
              "      </button>\n",
              "      \n",
              "  <style>\n",
              "    .colab-df-container {\n",
              "      display:flex;\n",
              "      flex-wrap:wrap;\n",
              "      gap: 12px;\n",
              "    }\n",
              "\n",
              "    .colab-df-convert {\n",
              "      background-color: #E8F0FE;\n",
              "      border: none;\n",
              "      border-radius: 50%;\n",
              "      cursor: pointer;\n",
              "      display: none;\n",
              "      fill: #1967D2;\n",
              "      height: 32px;\n",
              "      padding: 0 0 0 0;\n",
              "      width: 32px;\n",
              "    }\n",
              "\n",
              "    .colab-df-convert:hover {\n",
              "      background-color: #E2EBFA;\n",
              "      box-shadow: 0px 1px 2px rgba(60, 64, 67, 0.3), 0px 1px 3px 1px rgba(60, 64, 67, 0.15);\n",
              "      fill: #174EA6;\n",
              "    }\n",
              "\n",
              "    [theme=dark] .colab-df-convert {\n",
              "      background-color: #3B4455;\n",
              "      fill: #D2E3FC;\n",
              "    }\n",
              "\n",
              "    [theme=dark] .colab-df-convert:hover {\n",
              "      background-color: #434B5C;\n",
              "      box-shadow: 0px 1px 3px 1px rgba(0, 0, 0, 0.15);\n",
              "      filter: drop-shadow(0px 1px 2px rgba(0, 0, 0, 0.3));\n",
              "      fill: #FFFFFF;\n",
              "    }\n",
              "  </style>\n",
              "\n",
              "      <script>\n",
              "        const buttonEl =\n",
              "          document.querySelector('#df-b8c93bc5-d8f6-4b5e-8c30-2d165bd98ab9 button.colab-df-convert');\n",
              "        buttonEl.style.display =\n",
              "          google.colab.kernel.accessAllowed ? 'block' : 'none';\n",
              "\n",
              "        async function convertToInteractive(key) {\n",
              "          const element = document.querySelector('#df-b8c93bc5-d8f6-4b5e-8c30-2d165bd98ab9');\n",
              "          const dataTable =\n",
              "            await google.colab.kernel.invokeFunction('convertToInteractive',\n",
              "                                                     [key], {});\n",
              "          if (!dataTable) return;\n",
              "\n",
              "          const docLinkHtml = 'Like what you see? Visit the ' +\n",
              "            '<a target=\"_blank\" href=https://colab.research.google.com/notebooks/data_table.ipynb>data table notebook</a>'\n",
              "            + ' to learn more about interactive tables.';\n",
              "          element.innerHTML = '';\n",
              "          dataTable['output_type'] = 'display_data';\n",
              "          await google.colab.output.renderOutput(dataTable, element);\n",
              "          const docLink = document.createElement('div');\n",
              "          docLink.innerHTML = docLinkHtml;\n",
              "          element.appendChild(docLink);\n",
              "        }\n",
              "      </script>\n",
              "    </div>\n",
              "  </div>\n",
              "  "
            ],
            "text/plain": [
              "          ids  ...                                          stremming\n",
              "0  2329170131  ...  [whi, am, tipsi, at, in, the, afternoon, thank...\n",
              "1  2329170276  ...  [whi, am, tipsi, at, in, the, afternoon, thank...\n",
              "2  2329170385  ...  [ha, a, feel, the, rest, of, the, day, is, go,...\n",
              "3  2329170393  ...  [woohoo, Im, all, for, slack, time, Im, goin, ...\n",
              "4  2329170631  ...                   [scratch, that, No, pool, today]\n",
              "\n",
              "[5 rows x 5 columns]"
            ]
          },
          "metadata": {},
          "execution_count": 165
        }
      ]
    },
    {
      "cell_type": "markdown",
      "metadata": {
        "id": "hd14EJQ6DwBY"
      },
      "source": [
        "# **Wordlist file**"
      ]
    },
    {
      "cell_type": "code",
      "metadata": {
        "colab": {
          "base_uri": "https://localhost:8080/"
        },
        "id": "rNdZmxmvVAEa",
        "outputId": "790c90e8-6e2f-4649-a8f1-51c419aecc4a"
      },
      "source": [
        "words = Counter()                       # Words analyze  (5 most common) with count of them\n",
        "for idx in train_data.index:\n",
        "    words.update(train_data.loc[idx, \"tokenized\"])\n",
        "\n",
        "words.most_common(5)"
      ],
      "execution_count": 167,
      "outputs": [
        {
          "output_type": "execute_result",
          "data": {
            "text/plain": [
              "[('to', 723), ('I', 696), ('the', 611), ('a', 427), ('my', 384)]"
            ]
          },
          "metadata": {},
          "execution_count": 167
        }
      ]
    },
    {
      "cell_type": "code",
      "metadata": {
        "colab": {
          "base_uri": "https://localhost:8080/"
        },
        "id": "_locqyG1VAGY",
        "outputId": "2e9ec0ca-e9c1-4c5e-e127-bc2cf6e7cd1e"
      },
      "source": [
        "nltk.download('stopwords')\n",
        "stopwords=nltk.corpus.stopwords.words(\"english\")"
      ],
      "execution_count": 168,
      "outputs": [
        {
          "output_type": "stream",
          "name": "stdout",
          "text": [
            "[nltk_data] Downloading package stopwords to /root/nltk_data...\n",
            "[nltk_data]   Package stopwords is already up-to-date!\n"
          ]
        }
      ]
    },
    {
      "cell_type": "code",
      "metadata": {
        "colab": {
          "base_uri": "https://localhost:8080/"
        },
        "id": "dv9QziH7VrZF",
        "outputId": "4434214a-a2bb-40b6-85de-ed0ffa50194e"
      },
      "source": [
        "whitelist = [\"n't\", \"not\"]\n",
        "for idx, stop_word in enumerate(stopwords):\n",
        "    if stop_word not in whitelist:\n",
        "        del words[stop_word]\n",
        "words.most_common(5)"
      ],
      "execution_count": 169,
      "outputs": [
        {
          "output_type": "execute_result",
          "data": {
            "text/plain": [
              "[('I', 696), ('Im', 164), ('not', 110), ('get', 101), ('like', 97)]"
            ]
          },
          "metadata": {},
          "execution_count": 169
        }
      ]
    },
    {
      "cell_type": "code",
      "metadata": {
        "id": "casfmCgTVrbt"
      },
      "source": [
        "def word_list(processed_data): # wORDLIST FUNCTION FOR ANALYZE MOST COMMON WORDS WITH PURPOSE TO IDENTIFY OUR APP THE REAL SENTIMENT\n",
        "    #print(processed_data)\n",
        "    min_occurrences=3 \n",
        "    max_occurences=500 \n",
        "    stopwords=nltk.corpus.stopwords.words(\"english\")\n",
        "    whitelist = [\"n't\",\"not\"]\n",
        "    wordlist = []\n",
        "    \n",
        "    whitelist = whitelist if whitelist is None else whitelist\n",
        "    \n",
        "    words = Counter()\n",
        "    for idx in processed_data.index:\n",
        "        words.update(processed_data.loc[idx, \"tokenized\"])\n",
        "\n",
        "    for idx, stop_word in enumerate(stopwords):\n",
        "        if stop_word not in whitelist:\n",
        "            del words[stop_word]\n",
        "    #print(words)\n",
        "\n",
        "    word_df = pd.DataFrame(data={\"word\": [k for k, v in words.most_common() if min_occurrences < v < max_occurences],\n",
        "                                 \"occurrences\": [v for k, v in words.most_common() if min_occurrences < v < max_occurences]},\n",
        "                           columns=[\"word\", \"occurrences\"])\n",
        "    #print(word_df)\n",
        "    word_df.to_csv(\"wordlist.csv\", index_label=\"idx\")\n",
        "    wordlist = [k for k, v in words.most_common() if min_occurrences < v < max_occurences]\n",
        "    #print(wordlist)"
      ],
      "execution_count": 170,
      "outputs": []
    },
    {
      "cell_type": "code",
      "metadata": {
        "id": "lw2M-5clVre4"
      },
      "source": [
        "word_list(train_data)    #TRAIN DATA INTO WORDLIST FOR ANALYZE"
      ],
      "execution_count": 171,
      "outputs": []
    },
    {
      "cell_type": "code",
      "metadata": {
        "id": "UzeoAT34VrhK"
      },
      "source": [
        "words = pd.read_csv(\"wordlist.csv\") #CREATE WORDLIST CSV WITH THE MOST COMMON WORDS"
      ],
      "execution_count": 172,
      "outputs": []
    },
    {
      "cell_type": "markdown",
      "metadata": {
        "id": "uU-tg1myD43R"
      },
      "source": [
        "# **Bag of Words**"
      ]
    },
    {
      "cell_type": "code",
      "metadata": {
        "id": "ZBWrKVN6WRv3"
      },
      "source": [
        "import os\n",
        "wordlist= []      #CREATE THE FILE WORDLIST\n",
        "if os.path.isfile(\"wordlist.csv\"):\n",
        "    word_df = pd.read_csv(\"wordlist.csv\")\n",
        "    word_df = word_df[word_df[\"occurrences\"] > 3]\n",
        "    wordlist = list(word_df.loc[:, \"word\"])\n",
        "\n",
        "label_column = [\"label\"]\n",
        "columns = label_column + list(map(lambda w: w + \"_bow\",wordlist))\n",
        "labels = []\n",
        "rows = []\n",
        "for idx in train_data.index:\n",
        "    current_row = []\n",
        "    \n",
        "    # add label\n",
        "    current_label = train_data.loc[idx, \"target\"]\n",
        "    labels.append(current_label)\n",
        "    current_row.append(current_label)\n",
        "\n",
        "    # add bag-of-words\n",
        "    tokens = set(train_data.loc[idx, \"tokenized\"])\n",
        "    for _, word in enumerate(wordlist):\n",
        "        current_row.append(1 if word in tokens else 0)\n",
        "\n",
        "    rows.append(current_row)\n",
        "\n",
        "data_model = pd.DataFrame(rows, columns=columns)\n",
        "data_labels = pd.Series(labels)\n",
        "\n",
        "\n",
        "bow = data_model"
      ],
      "execution_count": 173,
      "outputs": []
    },
    {
      "cell_type": "markdown",
      "metadata": {
        "id": "LlOfnWu3D_Uv"
      },
      "source": [
        "# **Classification**"
      ]
    },
    {
      "cell_type": "code",
      "metadata": {
        "id": "V4J1pnmgWRy_"
      },
      "source": [
        "import random    #Randomize the Texts\n",
        "seed = 777\n",
        "random.seed(seed)"
      ],
      "execution_count": 174,
      "outputs": []
    },
    {
      "cell_type": "code",
      "metadata": {
        "id": "y4vANEQpoSXc"
      },
      "source": [
        "def log(x):\n",
        "    #can be used to write to log file\n",
        "     print(x)"
      ],
      "execution_count": 175,
      "outputs": []
    },
    {
      "cell_type": "code",
      "metadata": {
        "id": "MYGbDLl4WR2C"
      },
      "source": [
        "def test_classifier(X_train, y_train, X_test, y_test, classifier):\n",
        "    log(\"\")\n",
        "    log(\"---------------------------------------------------------\")\n",
        "    log(\"Testing \" + str(type(classifier).__name__))\n",
        "    now = time()\n",
        "    list_of_labels = sorted(list(set(y_train)))\n",
        "    model = classifier.fit(X_train, y_train)\n",
        "    log(\"Learing time {0}s\".format(time() - now))\n",
        "    now = time()\n",
        "    predictions = model.predict(X_test)\n",
        "    log(\"Predicting time {0}s\".format(time() - now))\n",
        "\n",
        "    # Calculate Accuracy, Precision, recall computation\n",
        "    \n",
        "    precision = precision_score(y_test, predictions, average=None, pos_label=None, labels=list_of_labels)\n",
        "    recall = recall_score(y_test, predictions, average=None, pos_label=None, labels=list_of_labels)\n",
        "    accuracy = accuracy_score(y_test, predictions)\n",
        "    f1 = f1_score(y_test, predictions, average=None, pos_label=None, labels=list_of_labels)\n",
        "    \n",
        "    log(\"=================== Results ===================\")\n",
        "    log(\"         Negative   Positive          \")\n",
        "    log(\"F1       \" +   str(f1))\n",
        "    log(\"Precision\" +   str(precision))\n",
        "    log(\"Recall   \" +   str(recall))\n",
        "    log(\"Accuracy \" +   str(accuracy))\n",
        "    log(\"===============================================\")\n",
        "\n",
        "    return precision, recall, accuracy, f1\n",
        "   \n",
        "   \n"
      ],
      "execution_count": 176,
      "outputs": []
    },
    {
      "cell_type": "code",
      "metadata": {
        "id": "XAZg2lmcE8jI"
      },
      "source": [
        "def cv(classifier, X_train, y_train):\n",
        "    log(\"===============================================\")\n",
        "    classifier_name = str(type(classifier).__name__)\n",
        "    now = time()\n",
        "    log(\"Crossvalidating \" + classifier_name + \"...\")\n",
        "    accuracy = [cross_val_score(classifier, X_train, y_train, cv=8, n_jobs=-1)]\n",
        "    log(\"Crosvalidation completed in {0}s\".format(time() - now))\n",
        "    log(\"Accuracy: \" + str(accuracy[0]))\n",
        "    log(\"Average accuracy: \" + str(np.array(accuracy[0]).mean()))\n",
        "    log(\"===============================================\")\n",
        "    return accuracy"
      ],
      "execution_count": 177,
      "outputs": []
    },
    {
      "cell_type": "code",
      "metadata": {
        "colab": {
          "base_uri": "https://localhost:8080/"
        },
        "id": "FTgd1naHE8mP",
        "outputId": "e237d16e-a56c-4d60-b882-aa40728a9f72"
      },
      "source": [
        "train_data.columns"
      ],
      "execution_count": 178,
      "outputs": [
        {
          "output_type": "execute_result",
          "data": {
            "text/plain": [
              "Index(['ids', 'text', 'target', 'tokenized', 'stremming'], dtype='object')"
            ]
          },
          "metadata": {},
          "execution_count": 178
        }
      ]
    },
    {
      "cell_type": "code",
      "metadata": {
        "id": "axyT-zUUE8pQ"
      },
      "source": [
        "dat1 = train_data\n",
        "dat2 = data_model\n",
        "\n",
        "dat1 = dat1.reset_index(drop=True)\n",
        "dat2 = dat2.reset_index(drop=True)\n",
        "\n",
        "data_model = dat1.join(dat2)"
      ],
      "execution_count": 179,
      "outputs": []
    },
    {
      "cell_type": "code",
      "metadata": {
        "id": "X2LxPtMpE8vA"
      },
      "source": [
        "data_model = data_model.drop(columns=['ids', 'text', 'target', 'tokenized', 'stremming'], axis=1)"
      ],
      "execution_count": 180,
      "outputs": []
    },
    {
      "cell_type": "code",
      "source": [
        "data_model.columns"
      ],
      "metadata": {
        "colab": {
          "base_uri": "https://localhost:8080/"
        },
        "id": "NmhupDCPN7jg",
        "outputId": "c232f4b2-7cd1-453a-b2de-b9736a47a702"
      },
      "execution_count": 181,
      "outputs": [
        {
          "output_type": "execute_result",
          "data": {
            "text/plain": [
              "Index(['label', 'Im_bow', 'not_bow', 'get_bow', 'like_bow', 'dont_bow',\n",
              "       'good_bow', 'im_bow', 'one_bow', 'day_bow',\n",
              "       ...\n",
              "       'confused_bow', 'v_bow', 'Sandra_bow', 'Cantu_bow', 'seem_bow',\n",
              "       'paper_bow', 'Internet_bow', 'support_bow', 'cried_bow', 'Lost_bow'],\n",
              "      dtype='object', length=753)"
            ]
          },
          "metadata": {},
          "execution_count": 181
        }
      ]
    },
    {
      "cell_type": "markdown",
      "metadata": {
        "id": "ggAX4C23EHv3"
      },
      "source": [
        "# **Naive Bayes**"
      ]
    },
    {
      "cell_type": "code",
      "metadata": {
        "colab": {
          "base_uri": "https://localhost:8080/"
        },
        "id": "EoclLwGCWR5D",
        "outputId": "2f580295-294b-4263-a107-79165a080e66"
      },
      "source": [
        "\n",
        "from sklearn.naive_bayes import BernoulliNB  #Print f1, Precision, Recall ,Accuracy Score got Negatives and Positives Posts\n",
        "X_train, X_test, y_train, y_test = train_test_split(bow.iloc[:, 1:], bow['label'], test_size=0.3)\n",
        "precision, recall, accuracy, f1 = test_classifier(X_train, y_train, X_test, y_test, BernoulliNB())"
      ],
      "execution_count": 182,
      "outputs": [
        {
          "output_type": "stream",
          "name": "stdout",
          "text": [
            "\n",
            "---------------------------------------------------------\n",
            "Testing BernoulliNB\n",
            "Learing time 0.03701162338256836s\n",
            "Predicting time 0.017800092697143555s\n",
            "=================== Results ===================\n",
            "         Negative   Positive          \n",
            "F1       [0.70438472 0.58613861]\n",
            "Precision[0.68975069 0.60408163]\n",
            "Recall   [0.71965318 0.56923077]\n",
            "Accuracy 0.6551155115511551\n",
            "===============================================\n"
          ]
        }
      ]
    },
    {
      "cell_type": "code",
      "metadata": {
        "colab": {
          "base_uri": "https://localhost:8080/"
        },
        "id": "p_pyR4ozE805",
        "outputId": "7f778177-ceba-44d0-a121-0906b62827ef"
      },
      "source": [
        "rf_acc = cv( BernoulliNB(),data_model.drop(columns='label',axis=1), data_model['label'])"
      ],
      "execution_count": 183,
      "outputs": [
        {
          "output_type": "stream",
          "name": "stdout",
          "text": [
            "===============================================\n",
            "Crossvalidating BernoulliNB...\n",
            "Crosvalidation completed in 3.765878915786743s\n",
            "Accuracy: [0.66007905 0.63492063 0.67063492 0.6468254  0.66269841 0.71825397\n",
            " 0.64285714 0.70634921]\n",
            "Average accuracy: 0.6678273417403853\n",
            "===============================================\n"
          ]
        }
      ]
    },
    {
      "cell_type": "markdown",
      "metadata": {
        "id": "wMwGBrhzELd3"
      },
      "source": [
        "# **Random Forest**"
      ]
    },
    {
      "cell_type": "code",
      "metadata": {
        "colab": {
          "base_uri": "https://localhost:8080/"
        },
        "id": "jKrIXHGQGe7y",
        "outputId": "34dcc852-6c3c-4159-e682-86e6d3ed8f83"
      },
      "source": [
        "from sklearn.ensemble import RandomForestClassifier\n",
        "X_train, X_test, y_train, y_test = train_test_split(data_model.drop(columns='label',axis=1),data_model['label'] , test_size=0.3)\n",
        "precision, recall, accuracy, f1 = test_classifier(X_train, y_train, X_test, y_test, RandomForestClassifier(random_state=seed,n_estimators=403,n_jobs=-1))"
      ],
      "execution_count": 184,
      "outputs": [
        {
          "output_type": "stream",
          "name": "stdout",
          "text": [
            "\n",
            "---------------------------------------------------------\n",
            "Testing RandomForestClassifier\n",
            "Learing time 6.627281665802002s\n",
            "Predicting time 0.5181541442871094s\n",
            "=================== Results ===================\n",
            "         Negative   Positive          \n",
            "F1       [0.69208211 0.60377358]\n",
            "Precision[0.70238095 0.59259259]\n",
            "Recall   [0.68208092 0.61538462]\n",
            "Accuracy 0.6534653465346535\n",
            "===============================================\n"
          ]
        }
      ]
    },
    {
      "cell_type": "code",
      "metadata": {
        "colab": {
          "base_uri": "https://localhost:8080/"
        },
        "id": "6Nq1UhEiE8x5",
        "outputId": "1aa8fb2f-fd12-4f64-8433-307c89005af1"
      },
      "source": [
        "rf_acc = cv(RandomForestClassifier(n_estimators=403,n_jobs=-1, random_state=seed),data_model.drop(columns='label',axis=1), data_model['label'])"
      ],
      "execution_count": 185,
      "outputs": [
        {
          "output_type": "stream",
          "name": "stdout",
          "text": [
            "===============================================\n",
            "Crossvalidating RandomForestClassifier...\n",
            "Crosvalidation completed in 53.93929386138916s\n",
            "Accuracy: [0.65612648 0.6547619  0.61904762 0.64285714 0.63492063 0.63888889\n",
            " 0.62301587 0.68650794]\n",
            "Average accuracy: 0.6445158102766798\n",
            "===============================================\n"
          ]
        }
      ]
    },
    {
      "cell_type": "markdown",
      "metadata": {
        "id": "HJ7aDWjXEUU_"
      },
      "source": [
        "# **XGBoost**"
      ]
    },
    {
      "cell_type": "code",
      "metadata": {
        "colab": {
          "base_uri": "https://localhost:8080/"
        },
        "id": "zZzbEqpxGkXF",
        "outputId": "4a766ddd-d9df-4099-9776-f0246c6b391f"
      },
      "source": [
        "from xgboost import XGBClassifier as XGBoostClassifier\n",
        "X_train, X_test, y_train, y_test = train_test_split(data_model.drop(columns='label',axis=1),data_model['label'] , test_size=0.3)\n",
        "precision, recall, accuracy, f1 = test_classifier(X_train, y_train, X_test, y_test, XGBoostClassifier(seed=seed))"
      ],
      "execution_count": 186,
      "outputs": [
        {
          "output_type": "stream",
          "name": "stdout",
          "text": [
            "\n",
            "---------------------------------------------------------\n",
            "Testing XGBClassifier\n",
            "Learing time 3.6585612297058105s\n",
            "Predicting time 0.04488992691040039s\n",
            "=================== Results ===================\n",
            "         Negative   Positive          \n",
            "F1       [0.73349057 0.37912088]\n",
            "Precision[0.62324649 0.64485981]\n",
            "Recall   [0.89111748 0.26848249]\n",
            "Accuracy 0.6270627062706271\n",
            "===============================================\n"
          ]
        }
      ]
    },
    {
      "cell_type": "code",
      "metadata": {
        "colab": {
          "base_uri": "https://localhost:8080/"
        },
        "id": "ea0mbd5WE83w",
        "outputId": "b25978f7-63da-4d77-fb4b-e45d61665603"
      },
      "source": [
        "rf_acc = cv(XGBoostClassifier(seed=seed),data_model.drop(columns='label',axis=1), data_model['label'])"
      ],
      "execution_count": 188,
      "outputs": [
        {
          "output_type": "stream",
          "name": "stdout",
          "text": [
            "===============================================\n",
            "Crossvalidating XGBClassifier...\n",
            "Crosvalidation completed in 29.464919805526733s\n",
            "Accuracy: [0.64031621 0.64285714 0.64285714 0.5952381  0.63492063 0.63492063\n",
            " 0.63492063 0.63492063]\n",
            "Average accuracy: 0.6326188907710647\n",
            "===============================================\n"
          ]
        }
      ]
    },
    {
      "cell_type": "markdown",
      "metadata": {
        "id": "5-5qqOtFY9qZ"
      },
      "source": [
        "# **Test Data**"
      ]
    },
    {
      "cell_type": "code",
      "metadata": {
        "colab": {
          "base_uri": "https://localhost:8080/",
          "height": 206
        },
        "id": "45wsYzGGIFNR",
        "outputId": "3263e6ab-9277-4920-e1a4-9bbebe5cb54b"
      },
      "source": [
        "\n",
        "test_data.head()"
      ],
      "execution_count": 189,
      "outputs": [
        {
          "output_type": "execute_result",
          "data": {
            "text/html": [
              "\n",
              "  <div id=\"df-8a360206-7d67-42e4-9785-08f1b856c072\">\n",
              "    <div class=\"colab-df-container\">\n",
              "      <div>\n",
              "<style scoped>\n",
              "    .dataframe tbody tr th:only-of-type {\n",
              "        vertical-align: middle;\n",
              "    }\n",
              "\n",
              "    .dataframe tbody tr th {\n",
              "        vertical-align: top;\n",
              "    }\n",
              "\n",
              "    .dataframe thead th {\n",
              "        text-align: right;\n",
              "    }\n",
              "</style>\n",
              "<table border=\"1\" class=\"dataframe\">\n",
              "  <thead>\n",
              "    <tr style=\"text-align: right;\">\n",
              "      <th></th>\n",
              "      <th>ids</th>\n",
              "      <th>text</th>\n",
              "      <th>target</th>\n",
              "    </tr>\n",
              "  </thead>\n",
              "  <tbody>\n",
              "    <tr>\n",
              "      <th>0</th>\n",
              "      <td>1467810369</td>\n",
              "      <td>@switchfoot http://twitpic.com/2y1zl - Awww, t...</td>\n",
              "      <td>0</td>\n",
              "    </tr>\n",
              "    <tr>\n",
              "      <th>1</th>\n",
              "      <td>1467810672</td>\n",
              "      <td>is upset that he can't update his Facebook by ...</td>\n",
              "      <td>0</td>\n",
              "    </tr>\n",
              "    <tr>\n",
              "      <th>2</th>\n",
              "      <td>1467810917</td>\n",
              "      <td>@Kenichan I dived many times for the ball. Man...</td>\n",
              "      <td>0</td>\n",
              "    </tr>\n",
              "    <tr>\n",
              "      <th>3</th>\n",
              "      <td>1467811184</td>\n",
              "      <td>my whole body feels itchy and like its on fire</td>\n",
              "      <td>0</td>\n",
              "    </tr>\n",
              "    <tr>\n",
              "      <th>4</th>\n",
              "      <td>1467811193</td>\n",
              "      <td>@nationwideclass no, it's not behaving at all....</td>\n",
              "      <td>0</td>\n",
              "    </tr>\n",
              "  </tbody>\n",
              "</table>\n",
              "</div>\n",
              "      <button class=\"colab-df-convert\" onclick=\"convertToInteractive('df-8a360206-7d67-42e4-9785-08f1b856c072')\"\n",
              "              title=\"Convert this dataframe to an interactive table.\"\n",
              "              style=\"display:none;\">\n",
              "        \n",
              "  <svg xmlns=\"http://www.w3.org/2000/svg\" height=\"24px\"viewBox=\"0 0 24 24\"\n",
              "       width=\"24px\">\n",
              "    <path d=\"M0 0h24v24H0V0z\" fill=\"none\"/>\n",
              "    <path d=\"M18.56 5.44l.94 2.06.94-2.06 2.06-.94-2.06-.94-.94-2.06-.94 2.06-2.06.94zm-11 1L8.5 8.5l.94-2.06 2.06-.94-2.06-.94L8.5 2.5l-.94 2.06-2.06.94zm10 10l.94 2.06.94-2.06 2.06-.94-2.06-.94-.94-2.06-.94 2.06-2.06.94z\"/><path d=\"M17.41 7.96l-1.37-1.37c-.4-.4-.92-.59-1.43-.59-.52 0-1.04.2-1.43.59L10.3 9.45l-7.72 7.72c-.78.78-.78 2.05 0 2.83L4 21.41c.39.39.9.59 1.41.59.51 0 1.02-.2 1.41-.59l7.78-7.78 2.81-2.81c.8-.78.8-2.07 0-2.86zM5.41 20L4 18.59l7.72-7.72 1.47 1.35L5.41 20z\"/>\n",
              "  </svg>\n",
              "      </button>\n",
              "      \n",
              "  <style>\n",
              "    .colab-df-container {\n",
              "      display:flex;\n",
              "      flex-wrap:wrap;\n",
              "      gap: 12px;\n",
              "    }\n",
              "\n",
              "    .colab-df-convert {\n",
              "      background-color: #E8F0FE;\n",
              "      border: none;\n",
              "      border-radius: 50%;\n",
              "      cursor: pointer;\n",
              "      display: none;\n",
              "      fill: #1967D2;\n",
              "      height: 32px;\n",
              "      padding: 0 0 0 0;\n",
              "      width: 32px;\n",
              "    }\n",
              "\n",
              "    .colab-df-convert:hover {\n",
              "      background-color: #E2EBFA;\n",
              "      box-shadow: 0px 1px 2px rgba(60, 64, 67, 0.3), 0px 1px 3px 1px rgba(60, 64, 67, 0.15);\n",
              "      fill: #174EA6;\n",
              "    }\n",
              "\n",
              "    [theme=dark] .colab-df-convert {\n",
              "      background-color: #3B4455;\n",
              "      fill: #D2E3FC;\n",
              "    }\n",
              "\n",
              "    [theme=dark] .colab-df-convert:hover {\n",
              "      background-color: #434B5C;\n",
              "      box-shadow: 0px 1px 3px 1px rgba(0, 0, 0, 0.15);\n",
              "      filter: drop-shadow(0px 1px 2px rgba(0, 0, 0, 0.3));\n",
              "      fill: #FFFFFF;\n",
              "    }\n",
              "  </style>\n",
              "\n",
              "      <script>\n",
              "        const buttonEl =\n",
              "          document.querySelector('#df-8a360206-7d67-42e4-9785-08f1b856c072 button.colab-df-convert');\n",
              "        buttonEl.style.display =\n",
              "          google.colab.kernel.accessAllowed ? 'block' : 'none';\n",
              "\n",
              "        async function convertToInteractive(key) {\n",
              "          const element = document.querySelector('#df-8a360206-7d67-42e4-9785-08f1b856c072');\n",
              "          const dataTable =\n",
              "            await google.colab.kernel.invokeFunction('convertToInteractive',\n",
              "                                                     [key], {});\n",
              "          if (!dataTable) return;\n",
              "\n",
              "          const docLinkHtml = 'Like what you see? Visit the ' +\n",
              "            '<a target=\"_blank\" href=https://colab.research.google.com/notebooks/data_table.ipynb>data table notebook</a>'\n",
              "            + ' to learn more about interactive tables.';\n",
              "          element.innerHTML = '';\n",
              "          dataTable['output_type'] = 'display_data';\n",
              "          await google.colab.output.renderOutput(dataTable, element);\n",
              "          const docLink = document.createElement('div');\n",
              "          docLink.innerHTML = docLinkHtml;\n",
              "          element.appendChild(docLink);\n",
              "        }\n",
              "      </script>\n",
              "    </div>\n",
              "  </div>\n",
              "  "
            ],
            "text/plain": [
              "          ids                                               text  target\n",
              "0  1467810369  @switchfoot http://twitpic.com/2y1zl - Awww, t...       0\n",
              "1  1467810672  is upset that he can't update his Facebook by ...       0\n",
              "2  1467810917  @Kenichan I dived many times for the ball. Man...       0\n",
              "3  1467811184    my whole body feels itchy and like its on fire        0\n",
              "4  1467811193  @nationwideclass no, it's not behaving at all....       0"
            ]
          },
          "metadata": {},
          "execution_count": 189
        }
      ]
    },
    {
      "cell_type": "code",
      "metadata": {
        "colab": {
          "base_uri": "https://localhost:8080/"
        },
        "id": "byCx5b2OIYqF",
        "outputId": "e80e8ecd-0117-4374-8c8a-d1fb3a434a36"
      },
      "source": [
        "test_data.columns"
      ],
      "execution_count": 190,
      "outputs": [
        {
          "output_type": "execute_result",
          "data": {
            "text/plain": [
              "Index(['ids', 'text', 'target'], dtype='object')"
            ]
          },
          "metadata": {},
          "execution_count": 190
        }
      ]
    },
    {
      "cell_type": "code",
      "metadata": {
        "id": "6fpPwdq8IYtV"
      },
      "source": [
        "test_data = test_data[test_data['text'] != \"\"]"
      ],
      "execution_count": 191,
      "outputs": []
    },
    {
      "cell_type": "code",
      "metadata": {
        "id": "VjoOntbWIYwq"
      },
      "source": [
        "# Drop null values\n",
        "test_data = test_data.dropna() \n",
        "\n",
        "\n",
        "# Clean tweets\n",
        "test_data['text'] = test_data['text'].apply(clean_tweets)\n",
        "\n",
        "## Tokenize data\n",
        "test_data['tokenized'] = test_data['text'].apply(tokenize)\n",
        "test_data['stremming'] = test_data['tokenized'].apply(stemming)"
      ],
      "execution_count": 192,
      "outputs": []
    },
    {
      "cell_type": "code",
      "metadata": {
        "colab": {
          "base_uri": "https://localhost:8080/"
        },
        "id": "NSpLGTNpghZD",
        "outputId": "f1d468d1-2dc1-4506-85d3-af89814073d9"
      },
      "source": [
        "test_data.columns"
      ],
      "execution_count": 193,
      "outputs": [
        {
          "output_type": "execute_result",
          "data": {
            "text/plain": [
              "Index(['ids', 'text', 'target', 'tokenized', 'stremming'], dtype='object')"
            ]
          },
          "metadata": {},
          "execution_count": 193
        }
      ]
    },
    {
      "cell_type": "code",
      "metadata": {
        "id": "VHR9plGUfbDs"
      },
      "source": [
        "def word_listest(processed_data): # wORDLIST FUNCTION FOR ANALYZE MOST COMMON WORDS WITH PURPOSE TO IDENTIFY OUR APP THE REAL SENTIMENT\n",
        "    #print(processed_data)\n",
        "    min_occurrences=3 \n",
        "    max_occurences=500 \n",
        "    stopwords=nltk.corpus.stopwords.words(\"english\")\n",
        "    whitelist = [\"n't\",\"not\"]\n",
        "    wordlist = []\n",
        "    \n",
        "    whitelist = whitelist if whitelist is None else whitelist\n",
        "    \n",
        "    words = Counter()\n",
        "    for idx in processed_data.index:\n",
        "        words.update(processed_data.loc[idx, \"tokenized\"])\n",
        "\n",
        "    for idx, stop_word in enumerate(stopwords):\n",
        "        if stop_word not in whitelist:\n",
        "            del words[stop_word]\n",
        "    #print(words)\n",
        "\n",
        "    word_df = pd.DataFrame(data={\"word\": [k for k, v in words.most_common() if min_occurrences < v < max_occurences],\n",
        "                                 \"occurrences\": [v for k, v in words.most_common() if min_occurrences < v < max_occurences]},\n",
        "                           columns=[\"word\", \"occurrences\"])\n",
        "    #print(word_df)\n",
        "    word_df.to_csv(\"wordlistest.csv\", index_label=\"idx\")\n",
        "    wordlist = [k for k, v in words.most_common() if min_occurrences < v < max_occurences]\n",
        "    #print(wordlist)"
      ],
      "execution_count": 194,
      "outputs": []
    },
    {
      "cell_type": "code",
      "metadata": {
        "id": "Dqge9V9cIYzU"
      },
      "source": [
        "# wordlistest\n",
        "word_listest(test_data)"
      ],
      "execution_count": 195,
      "outputs": []
    },
    {
      "cell_type": "code",
      "metadata": {
        "id": "0cpCdM7BfEU1"
      },
      "source": [
        "words = pd.read_csv(\"wordlistest.csv\") #CREATE WORDLIST TEST CSV WITH THE MOST COMMON WORDS"
      ],
      "execution_count": 196,
      "outputs": []
    },
    {
      "cell_type": "code",
      "metadata": {
        "id": "GoHFAgk5IY2Q"
      },
      "source": [
        "\n",
        "## BAG OF WORDS\n",
        "wordlist= []\n",
        "if os.path.isfile(\"wordlistest.csv\"):\n",
        "    word_df = pd.read_csv(\"wordlistest.csv\")\n",
        "    word_df = word_df[word_df[\"occurrences\"] > 3]\n",
        "    wordlist = list(word_df.loc[:, \"word\"])\n",
        "\n",
        "label_column = [\"label\"]\n",
        "columns = label_column + list(map(lambda w: w + \"_bow\",wordlist))\n",
        "labels = []\n",
        "rows = []\n",
        "for idx in test_data.index:\n",
        "    current_row = []\n",
        "        # add label\n",
        "    current_label = test_data.loc[idx, \"text\"]\n",
        "    labels.append(current_label)\n",
        "    current_row.append(current_label)\n",
        "\n",
        "    # add bag-of-words\n",
        "    tokens = set(test_data.loc[idx, \"tokenized\"])\n",
        "    for _, word in enumerate(wordlist):\n",
        "        current_row.append(1 if word in tokens else 0)\n",
        "\n",
        "    rows.append(current_row)\n",
        "\n",
        "data_model = pd.DataFrame(rows, columns=columns)\n",
        "data_labels = pd.Series(labels)"
      ],
      "execution_count": 197,
      "outputs": []
    },
    {
      "cell_type": "code",
      "metadata": {
        "id": "wN-YEPOPI14w"
      },
      "source": [
        "\n",
        "dat1 = test_data\n",
        "dat2 = data_model\n",
        "\n",
        "dat1 = dat1.reset_index(drop=True)\n",
        "dat2 = dat2.reset_index(drop=True)\n",
        "\n",
        "data_model = dat1.join(dat2)"
      ],
      "execution_count": 198,
      "outputs": []
    },
    {
      "cell_type": "code",
      "metadata": {
        "id": "3LzpHUYdI18D"
      },
      "source": [
        "\n",
        "test_model = pd.DataFrame()\n"
      ],
      "execution_count": 199,
      "outputs": []
    },
    {
      "cell_type": "code",
      "metadata": {
        "id": "-auApA2fJCR8"
      },
      "source": [
        "data_model.columns\n",
        "test_model['original_id'] = data_model['ids']"
      ],
      "execution_count": 200,
      "outputs": []
    },
    {
      "cell_type": "code",
      "metadata": {
        "id": "SHqh0r9HJCUt"
      },
      "source": [
        "data_model = data_model.drop(columns=['ids', 'text', 'target', 'tokenized', 'stremming'], axis=1)"
      ],
      "execution_count": 201,
      "outputs": []
    },
    {
      "cell_type": "code",
      "metadata": {
        "id": "laDixoX4JQte"
      },
      "source": [
        "from sklearn.ensemble import RandomForestClassifier"
      ],
      "execution_count": 202,
      "outputs": []
    },
    {
      "cell_type": "code",
      "metadata": {
        "id": "BFr8BbXTIFBB"
      },
      "source": [
        "RF = RandomForestClassifier(n_estimators=403,max_depth=10)"
      ],
      "execution_count": 203,
      "outputs": []
    },
    {
      "cell_type": "code",
      "metadata": {
        "colab": {
          "base_uri": "https://localhost:8080/"
        },
        "id": "TDBRURkzJpxO",
        "outputId": "c66f5818-b9a1-4cb4-8304-1a5bc6761fff"
      },
      "source": [
        "RF.fit(data_model.drop(columns='label',axis=1),data_model['label'])\n"
      ],
      "execution_count": 204,
      "outputs": [
        {
          "output_type": "execute_result",
          "data": {
            "text/plain": [
              "RandomForestClassifier(max_depth=10, n_estimators=403)"
            ]
          },
          "metadata": {},
          "execution_count": 204
        }
      ]
    },
    {
      "cell_type": "code",
      "metadata": {
        "id": "zqekt_RZIFHL"
      },
      "source": [
        "predictions = RF.predict(data_model.drop(columns='label',axis=1))"
      ],
      "execution_count": 205,
      "outputs": []
    },
    {
      "cell_type": "code",
      "metadata": {
        "id": "nYnRHIW1IFJz"
      },
      "source": [
        "results = pd.DataFrame([],columns=[\"ID\",\"Category\"])\n",
        "results[\"ID\"] = test_model[\"original_id\"]\n",
        "results[\"Category\"] = predictions\n",
        "results.to_csv(\"results_xgb.csv\",index=False)"
      ],
      "execution_count": 206,
      "outputs": []
    },
    {
      "cell_type": "markdown",
      "metadata": {
        "id": "D6Jzvo2SZFCP"
      },
      "source": [
        "# **Input Tweet & Analyzing Sentiment Polarity for understanding the Sentiment**"
      ]
    },
    {
      "cell_type": "code",
      "metadata": {
        "id": "KxSsoA8obUEs",
        "colab": {
          "base_uri": "https://localhost:8080/"
        },
        "outputId": "8b1ae48d-4cbd-4b2a-c463-fab3fcf6089c"
      },
      "source": [
        "# Give text input for testing your post!\n",
        "# After clean tweet and print it!\n",
        "\n",
        "y= input(\"Type your post for analysis:\")\n",
        "x=clean_tweets(y)\n",
        "print(x)\n",
        "\n"
      ],
      "execution_count": 217,
      "outputs": [
        {
          "output_type": "stream",
          "name": "stdout",
          "text": [
            "Type your post for analysis:\tI need a hug\n",
            "I need a hug\n"
          ]
        }
      ]
    },
    {
      "cell_type": "code",
      "metadata": {
        "colab": {
          "base_uri": "https://localhost:8080/"
        },
        "id": "R9sp8Owog5v8",
        "outputId": "6efd907e-b968-4ff0-f572-525d71ae96e7"
      },
      "source": [
        "# Using textblob library for data analysis \n",
        "# After sentiment and polarity for calculate the emotion of the post and print it for testing!\n",
        "text= TextBlob(x)\n",
        "\n",
        "\n",
        "z = text.sentiment.polarity\n",
        "\n",
        "print (z)\n",
        "\n",
        "\n",
        "\n"
      ],
      "execution_count": 218,
      "outputs": [
        {
          "output_type": "stream",
          "name": "stdout",
          "text": [
            "0.0\n"
          ]
        }
      ]
    },
    {
      "cell_type": "code",
      "metadata": {
        "colab": {
          "base_uri": "https://localhost:8080/"
        },
        "id": "koTCKEHUg5yj",
        "outputId": "b9956f76-b17d-44c7-f8ad-3a68b2f79fca"
      },
      "source": [
        "# Using if statement for printing if it is positive or negative!\n",
        "\n",
        "if z==0: \n",
        "    print(\"Neutral\")\n",
        "elif z<0:\n",
        "    print(\"Negative\")\n",
        "else:\n",
        "    print(\"Positive\")"
      ],
      "execution_count": 219,
      "outputs": [
        {
          "output_type": "stream",
          "name": "stdout",
          "text": [
            "Neutral\n"
          ]
        }
      ]
    }
  ]
}